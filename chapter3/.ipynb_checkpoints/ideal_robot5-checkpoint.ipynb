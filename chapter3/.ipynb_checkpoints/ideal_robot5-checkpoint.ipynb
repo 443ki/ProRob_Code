{
 "cells": [
  {
   "cell_type": "code",
   "execution_count": 1,
   "metadata": {
    "jupyter": {
     "outputs_hidden": false,
     "source_hidden": false
    },
    "nteract": {
     "transient": {
      "deleting": false
     }
    },
    "outputExpanded": false
   },
   "outputs": [],
   "source": [
    "%matplotlib qt\n",
    "import matplotlib.animation as anm\n",
    "import matplotlib.pyplot as plt\n",
    "import math\n",
    "import matplotlib.patches as patches\n",
    "import numpy as np\n",
    "\n",
    "#"
   ]
  },
  {
   "cell_type": "code",
   "execution_count": 2,
   "metadata": {
    "jupyter": {
     "outputs_hidden": false,
     "source_hidden": false
    },
    "nteract": {
     "transient": {
      "deleting": false
     }
    },
    "outputExpanded": false
   },
   "outputs": [],
   "source": [
    "class World:\n",
    "    def __init__(self, debug=False):\n",
    "        # ここにロボット等のオブジェクトを登録\n",
    "        self.objects = []\n",
    "\n",
    "        # デバッグ用フラグ\n",
    "        self.debug = debug\n",
    "\n",
    "    # オブジェクト登録のための関数\n",
    "    def append(self, obj):\n",
    "        self.objects.append(obj)\n",
    "\n",
    "    def draw(self):\n",
    "        # 8x8 inchの図を準備\n",
    "        fig = plt.figure(figsize=(8,8))\n",
    "\n",
    "        # サブプロットを準備\n",
    "        ax = fig.add_subplot(111)\n",
    "\n",
    "        # 縦横比を座標の値と一致させる\n",
    "        ax.set_aspect('equal')\n",
    "\n",
    "        # X軸, Y軸を-5m x 5mの範囲で描画\n",
    "        ax.set_xlim(-5,5)\n",
    "        ax.set_ylim(-5,5)\n",
    "\n",
    "        # X軸, Y軸にラベルを表示する\n",
    "        ax.set_xlabel(\"X\", fontsize=10)\n",
    "        ax.set_ylabel(\"Y\", fontsize=10)\n",
    "\n",
    "        # 描画する図形のリスト\n",
    "        elems = []\n",
    "\n",
    "        if self.debug:\n",
    "            # デバッグ時はアニメーションさせない\n",
    "            for i in range (1000):\n",
    "                self.one_step(i, elms, ax)\n",
    "\n",
    "        else:\n",
    "            # アニメーションのためのオブジェクト作成\n",
    "            self.ani = anm.FuncAnimation(fig, self.one_step, fargs=(elems, ax), frames=10, interval=1000, repeat=False)\n",
    "            plt.show()\n",
    "\n",
    "    # 1ステップ時刻を進める関数\n",
    "    def one_step(self, i, elems, ax):\n",
    "        while elems:\n",
    "            # 二重描画を防ぐために図形をいったんクリア\n",
    "            elems.pop().remove()\n",
    "\n",
    "        # elemsにテキストオブジェクトを追加する\n",
    "        elems.append(ax.text(-4.4, 4.5, \"t=\"+str(i), fontsize=10))\n",
    "        for obj in self.objects:\n",
    "            obj.draw(ax, elems)\n",
    "            # オブジェクトに\"one_step\"という名のメソッドがあれば実行\n",
    "            if hasattr(obj, \"one_step\"):\n",
    "                obj.one_step(1.0)\n",
    "\n",
    "#"
   ]
  },
  {
   "cell_type": "code",
   "execution_count": 3,
   "metadata": {
    "jupyter": {
     "outputs_hidden": false,
     "source_hidden": false
    },
    "nteract": {
     "transient": {
      "deleting": false
     }
    },
    "outputExpanded": false
   },
   "outputs": [],
   "source": [
    "class IdealRobot:\n",
    "    def __init__(self, pose, agent=None, color=\"black\"):\n",
    "        # 引数から姿勢の初期値を設定\n",
    "        self.pose = pose\n",
    "\n",
    "        # 描画のための固定値\n",
    "        self.r = 0.2\n",
    "\n",
    "        # 引数から描画するときの色を設定\n",
    "        self.color = color\n",
    "\n",
    "        # エージェントを指定\n",
    "        self.agent = agent\n",
    "\n",
    "        # 軌跡の描画用\n",
    "        self.poses = [pose]\n",
    "\n",
    "    def draw(self, ax, elems):\n",
    "        # 姿勢の変数を分解\n",
    "        x, y, theta = self.pose\n",
    "\n",
    "        # ロボットの鼻先のx, y座標\n",
    "        xn = x + self.r * math.cos(theta)\n",
    "        yn = y + self.r * math.sin(theta)\n",
    "\n",
    "        # ロボットの向きを示す線分の描画\n",
    "        elems += ax.plot([x,xn], [y,yn], color=self.color)\n",
    "\n",
    "        # ロボットの胴体を示す円を作って，サブプロットに登録\n",
    "        c = patches.Circle(xy=(x, y), radius=self.r, fill=False, color=self.color)\n",
    "        elems.append(ax.add_patch(c))\n",
    "\n",
    "        # 軌跡の描画\n",
    "        self.poses.append(self.pose)\n",
    "        elems += ax.plot([e[0] for e in self.poses], [e[1] for e in self.poses], linewidth=0.5, color=\"black\")\n",
    "\n",
    "    # クラスメソッド(インスタンス化しなくても実行可能なメソッド)\n",
    "    @classmethod\n",
    "    def state_transition(cls, nu, omega, time, pose):\n",
    "        t0 = pose[2]\n",
    "\n",
    "        # 角速度がほぼ0の場合とそうでない場合で場合分け\n",
    "        if math.fabs(omega)  < 1e-10:\n",
    "            return pose + np.array([\n",
    "                nu*math.cos(t0),\n",
    "                nu*math.sin(t0),\n",
    "                omega ]) * time\n",
    "\n",
    "        else:\n",
    "            return pose + np.array([\n",
    "                nu/omega*(math.sin(t0 + omega*time) - math.sin(t0)),\n",
    "                nu/omega*(-math.cos(t0 + omega*time) - math.cos(t0)),\n",
    "                omega*time ])\n",
    "\n",
    "    def one_step(self, time_interval):\n",
    "        if not self.agent:\n",
    "            return\n",
    "        nu, omega = self.agent.decision()\n",
    "        self.pose = self.state_transition(nu, omega, time_interval, self.pose)\n",
    "\n",
    "#"
   ]
  },
  {
   "cell_type": "code",
   "execution_count": 4,
   "metadata": {
    "jupyter": {
     "outputs_hidden": false,
     "source_hidden": false
    },
    "nteract": {
     "transient": {
      "deleting": false
     }
    },
    "outputExpanded": false
   },
   "outputs": [],
   "source": [
    "class Agent:\n",
    "    def __init__(self, nu, omega):\n",
    "        self.nu = nu\n",
    "        self.omega = omega\n",
    "\n",
    "    def decision(self, observation=None):\n",
    "        return self.nu, self.omega\n",
    "\n",
    "#"
   ]
  },
  {
   "cell_type": "code",
   "execution_count": 5,
   "metadata": {
    "jupyter": {
     "outputs_hidden": false,
     "source_hidden": false
    },
    "nteract": {
     "transient": {
      "deleting": false
     }
    },
    "outputExpanded": false
   },
   "outputs": [],
   "source": [
    "world = World(debug=False)\n",
    "\n",
    "# 0.2[m/s]で直進\n",
    "straight = Agent(0.2, 0.0)\n",
    "\n",
    "# 0.2[m/s], 10[deg/s]（円を描く）\n",
    "circling = Agent(0.2, 10.0/180*math.pi)\n",
    "\n",
    "# ロボットのインスタンスを生成（色省略,直進）\n",
    "robot1 = IdealRobot( np.array([2, 3, math.pi/6]).T, straight )\n",
    "\n",
    "# ロボットのインスタンスを生成（色指定，円）\n",
    "robot2 = IdealRobot( np.array([-2, -1, math.pi/5*6]).T, circling, \"red\")\n",
    "\n",
    "# ロボットのインスタンスを生成（エージェント与えない）\n",
    "robot3 = IdealRobot( np.array([0, 0, 0]).T, color=\"blue\")\n",
    "\n",
    "#ロボットを登録\n",
    "world.append(robot1)\n",
    "world.append(robot2)\n",
    "world.append(robot3)\n",
    "\n",
    "world.draw()\n",
    "\n",
    "#"
   ]
  },
  {
   "cell_type": "code",
   "execution_count": 6,
   "metadata": {
    "jupyter": {
     "outputs_hidden": false,
     "source_hidden": false
    },
    "nteract": {
     "transient": {
      "deleting": false
     }
    },
    "outputExpanded": false
   },
   "outputs": [
    {
     "data": {
      "text/plain": [
       "array([0.1, 0. , 0. ])"
      ]
     },
     "execution_count": 6,
     "metadata": {},
     "output_type": "execute_result"
    }
   ],
   "source": [
    "# 原点から0.1[m/s]で1[s]直進\n",
    "IdealRobot.state_transition(0.1, 0.0, 1.0, np.array([0,0,0]).T)\n",
    "\n",
    "#"
   ]
  },
  {
   "cell_type": "code",
   "execution_count": 7,
   "metadata": {
    "jupyter": {
     "outputs_hidden": false,
     "source_hidden": false
    },
    "nteract": {
     "transient": {
      "deleting": false
     }
    },
    "outputExpanded": false
   },
   "outputs": [
    {
     "data": {
      "text/plain": [
       "array([ 0.5729578 , -0.5729578 ,  1.57079633])"
      ]
     },
     "execution_count": 7,
     "metadata": {},
     "output_type": "execute_result"
    }
   ],
   "source": [
    "# 原点から0.1[m/s],10[deg/s]で9[s]移動\n",
    "IdealRobot.state_transition(0.1, 10.0/180*math.pi, 9.0, np.array([0,0,0]).T)\n",
    "\n",
    "#"
   ]
  },
  {
   "cell_type": "code",
   "execution_count": 8,
   "metadata": {
    "jupyter": {
     "outputs_hidden": false,
     "source_hidden": false
    },
    "nteract": {
     "transient": {
      "deleting": false
     }
    },
    "outputExpanded": false
   },
   "outputs": [
    {
     "data": {
      "text/plain": [
       "array([7.01670930e-17, 0.00000000e+00, 3.14159265e+00])"
      ]
     },
     "execution_count": 8,
     "metadata": {},
     "output_type": "execute_result"
    }
   ],
   "source": [
    "# 原点から0.1[m/s],10[deg/s]で18[s]移動\n",
    "IdealRobot.state_transition(0.1, 10.0/180*math.pi, 18.0, np.array([0,0,0]).T)"
   ]
  }
 ],
 "metadata": {
  "kernelspec": {
   "display_name": "Python 3",
   "language": "python",
   "name": "python3"
  },
  "language_info": {
   "codemirror_mode": {
    "name": "ipython",
    "version": 3
   },
   "file_extension": ".py",
   "mimetype": "text/x-python",
   "name": "python",
   "nbconvert_exporter": "python",
   "pygments_lexer": "ipython3",
   "version": "3.7.6"
  }
 },
 "nbformat": 4,
 "nbformat_minor": 1
}
