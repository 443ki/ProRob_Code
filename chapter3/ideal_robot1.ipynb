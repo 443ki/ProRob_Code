# %% codecell
import matplotlib.pyplot as plt

# %% codecell
class World:
    def __init__(self):
        #�@�����Ƀ��{�b�g���̃I�u�W�F�N�g��o�^
        self.objects = []

    # �I�u�W�F�N�g�o�^�̂��߂̊֐�
    def append(self, obj):
        self.objects.apppend(obj)

    def draw(self):
        # 8x8 inch�̐}������
        fig = plt.figure(figsize=(8,8))

        # �T�u�v���b�g������
        ax = fig.add_subplot(111)

        # �c��������W�̒l�ƈ�v������
        ax.set_aspect('equal')

        # X��, Y����-5m x 5m�͈̔͂ŕ`��
        ax.set_xlim(-5,5)
        ax.set_ylim(-5,5)

        # X��, Y���Ƀ��x����\������
        ax.set_xlabel("X", fontsize=20)
        ax.set_ylabel("Y", fontsize=20)

        # append�������̂����X�ɕ`��
        for obj in self.objects:
            obj.draw(ax)

        plt.show()

# %% codecell
world = World()
world.draw()
