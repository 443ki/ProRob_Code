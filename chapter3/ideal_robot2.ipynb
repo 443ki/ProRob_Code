{
  "cells": [
    {
      "cell_type": "code",
      "source": [
        "import matplotlib.pyplot as plt\n",
        "import math\n",
        "import matplotlib.patches as patches\n",
        "import numpy as np\n",
        "\n",
        "#"
      ],
      "outputs": [],
      "execution_count": null,
      "metadata": {
        "collapsed": true,
        "outputExpanded": false,
        "jupyter": {
          "source_hidden": false,
          "outputs_hidden": false
        },
        "nteract": {
          "transient": {
            "deleting": false
          }
        }
      }
    },
    {
      "cell_type": "code",
      "source": [
        "class World:\n",
        "    def __init__(self):\n",
        "        #　ここにロボット等のオブジェクトを登録\n",
        "        self.objects = []\n",
        "\n",
        "    # オブジェクト登録のための関数\n",
        "    def append(self, obj):\n",
        "        self.objects.append(obj)\n",
        "\n",
        "    def draw(self):\n",
        "        # 8x8 inchの図を準備\n",
        "        fig = plt.figure(figsize=(8,8))\n",
        "\n",
        "        # サブプロットを準備\n",
        "        ax = fig.add_subplot(111)\n",
        "\n",
        "        # 縦横比を座標の値と一致させる\n",
        "        ax.set_aspect('equal')\n",
        "\n",
        "        # X軸, Y軸を-5m x 5mの範囲で描画\n",
        "        ax.set_xlim(-5,5)\n",
        "        ax.set_ylim(-5,5)\n",
        "\n",
        "        # X軸, Y軸にラベルを表示する\n",
        "        ax.set_xlabel(\"X\", fontsize=20)\n",
        "        ax.set_ylabel(\"Y\", fontsize=20)\n",
        "\n",
        "        # appendした物体を次々に描画\n",
        "        for obj in self.objects:\n",
        "            obj.draw(ax)\n",
        "\n",
        "        plt.show()\n",
        "\n",
        "#"
      ],
      "outputs": [],
      "execution_count": null,
      "metadata": {
        "collapsed": true,
        "outputExpanded": false,
        "jupyter": {
          "source_hidden": false,
          "outputs_hidden": false
        },
        "nteract": {
          "transient": {
            "deleting": false
          }
        }
      }
    },
    {
      "cell_type": "code",
      "source": [
        "class IdealRobot:\n",
        "    def __init__(self, pose, color=\"black\"):\n",
        "        # 引数から姿勢の初期値を設定\n",
        "        self.pose = pose\n",
        "\n",
        "        # 描画のための固定値\n",
        "        self.r = 0.2\n",
        "\n",
        "        #引数から描画するときの色を設定\n",
        "        self.color = color\n",
        "\n",
        "    def draw(self, ax):\n",
        "        # 姿勢の変数を分解\n",
        "        x, y, theta = self.pose\n",
        "\n",
        "        # ロボットの鼻先のx, y座標\n",
        "        xn = x + self.r * math.cos(theta)\n",
        "        yn = y + self.r * math.sin(theta)\n",
        "\n",
        "        # ロボットの向きを示す線分の描画\n",
        "        ax.plot([x,xn], [y,yn], color=self.color)\n",
        "\n",
        "        # ロボットの胴体を示す円を作って，サブプロットに登録\n",
        "        c = patches.Circle(xy=(x, y), radius=self.r, fill=False, color=self.color)\n",
        "        ax.add_patch(c)\n",
        "\n",
        "#"
      ],
      "outputs": [],
      "execution_count": null,
      "metadata": {
        "collapsed": true,
        "outputExpanded": false,
        "jupyter": {
          "source_hidden": false,
          "outputs_hidden": false
        },
        "nteract": {
          "transient": {
            "deleting": false
          }
        }
      }
    },
    {
      "cell_type": "code",
      "source": [
        "world = World()\n",
        "\n",
        "# ロボットのインスタンスを生成(色省略)\n",
        "robot1 = IdealRobot( np.array([2, 3, math.pi/6]).T )\n",
        "\n",
        "# ロボットのインスタンスを生成(色指定)\n",
        "robot2 = IdealRobot( np.array([-2, -1, math.pi/5*6]).T, \"red\" )\n",
        "\n",
        "#ロボットを登録\n",
        "world.append(robot1)\n",
        "world.append(robot2)\n",
        "\n",
        "world.draw()"
      ],
      "outputs": [],
      "execution_count": null,
      "metadata": {
        "collapsed": true,
        "outputExpanded": false,
        "jupyter": {
          "source_hidden": false,
          "outputs_hidden": false
        },
        "nteract": {
          "transient": {
            "deleting": false
          }
        }
      }
    }
  ],
  "metadata": {
    "kernelspec": {
      "argv": [
        "C:/ProgramData/Anaconda3\\python.exe",
        "-m",
        "ipykernel_launcher",
        "-f",
        "{connection_file}"
      ],
      "display_name": "Python 3",
      "language": "python",
      "name": "python3"
    }
  },
  "nbformat": 4,
  "nbformat_minor": 0
}